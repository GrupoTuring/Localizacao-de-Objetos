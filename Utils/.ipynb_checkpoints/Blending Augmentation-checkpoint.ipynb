{
 "cells": [
  {
   "cell_type": "code",
   "execution_count": 12,
   "metadata": {},
   "outputs": [],
   "source": [
    "from PIL import Image, ImageOps\n",
    "import cv2\n",
    "import numpy as np"
   ]
  },
  {
   "cell_type": "code",
   "execution_count": 2,
   "metadata": {},
   "outputs": [],
   "source": [
    "# Function to change the image size\n",
    "def changeImageSize(maxWidth, \n",
    "                    maxHeight, \n",
    "                    image):\n",
    "    \n",
    "    widthRatio  = maxWidth/image.size[0]\n",
    "    heightRatio = maxHeight/image.size[1]\n",
    "\n",
    "    newWidth    = int(widthRatio*image.size[0])\n",
    "    newHeight   = int(heightRatio*image.size[1])\n",
    "\n",
    "    newImage    = image.resize((newWidth, newHeight))\n",
    "    return newImage"
   ]
  },
  {
   "cell_type": "code",
   "execution_count": 15,
   "metadata": {},
   "outputs": [],
   "source": [
    "def mirror(image):\n",
    "    return ImageOps.mirror(image)"
   ]
  },
  {
   "cell_type": "code",
   "execution_count": 179,
   "metadata": {},
   "outputs": [],
   "source": [
    "def rotate(image, degrees):\n",
    "    color = image.getpixel((0,0))\n",
    "    return image.rotate(degrees, Image.NEAREST, expand=1, fillcolor=color)"
   ]
  },
  {
   "cell_type": "code",
   "execution_count": 61,
   "metadata": {},
   "outputs": [],
   "source": [
    "def randomCrop(img, width, height):\n",
    "    #assert img.size[0] >= height\n",
    "    #assert img.size[1] >= width\n",
    "    #assert img.size[0] == mask.shape[0]\n",
    "    #assert img.size[1] == mask.shape[1]\n",
    "    data = np.asarray(img)\n",
    "    x = np.random.randint(0, img.size[0] - width)\n",
    "    y = np.random.randint(0, img.size[1] - height)\n",
    "    data = data[y:y+height, x:x+width]\n",
    "    return Image.fromarray(data)"
   ]
  },
  {
   "cell_type": "code",
   "execution_count": 157,
   "metadata": {},
   "outputs": [],
   "source": [
    "def randomObjAugment(image, prob):\n",
    "    if np.random.random() < 0.5:\n",
    "        image = mirror(image)\n",
    "        \n",
    "    if np.random.random() < prob:\n",
    "        degree = np.random.randint(low=-10, high=10, size=1)[0]\n",
    "        image = rotate(image, degree)\n",
    "        \n",
    "    maxSize = np.random.randint(low=100, high=450, size=1)[0]\n",
    "    \n",
    "    image = changeImageSize(maxSize, maxSize, image)\n",
    "        \n",
    "    return image"
   ]
  },
  {
   "cell_type": "code",
   "execution_count": 140,
   "metadata": {},
   "outputs": [],
   "source": [
    "def makeMask(image):\n",
    "    BW = image.convert('L')\n",
    "    img = np.asarray(BW).copy()\n",
    "    img[img==255] = 0\n",
    "    img[img>0] = 255\n",
    "    return Image.fromarray(img)"
   ]
  },
  {
   "cell_type": "code",
   "execution_count": 181,
   "metadata": {},
   "outputs": [],
   "source": [
    "def randomEnvAugment(image, prob):\n",
    "    if np.random.random() < 0.5:\n",
    "        image = mirror(image)\n",
    "        \n",
    "    if np.random.random() < prob:\n",
    "        degree = np.random.randint(low=-10, high=10, size=1)[0]\n",
    "        color = image.getpixel((image.size[0]//2,image.size[1]//2))\n",
    "        image = image.rotate(degree, Image.NEAREST, fillcolor=color)\n",
    "        \n",
    "    maxWidth = image.size[0]\n",
    "    maxHeight = image.size[1]\n",
    "    \n",
    "    if np.random.random() < prob:\n",
    "        ratio = np.random.randint(low=70, high=99, size=1)[0]/100\n",
    "        width = int(maxWidth * ratio)\n",
    "        height = int(maxHeight * ratio)\n",
    "        image = randomCrop(image, width, height)\n",
    "    \n",
    "    image = changeImageSize(maxWidth, maxHeight, image)\n",
    "        \n",
    "    return image"
   ]
  },
  {
   "cell_type": "code",
   "execution_count": 146,
   "metadata": {},
   "outputs": [],
   "source": [
    "def randomPlace(img, IMG, w, h, W, H, mask, path):\n",
    "    #data = np.asarray(img)\n",
    "    #DATA = np.asarray(IMG)\n",
    "    x = np.random.randint(0, W - w)\n",
    "    y = np.random.randint(0, H - h)\n",
    "    #blended = DATA\n",
    "    #blended[y:y+h, x:x+w] = data.copy()\n",
    "    #return Image.fromarray(blended)\n",
    "    box = (x, y)\n",
    "    IMG.paste(img, box, mask)\n",
    "    \n",
    "    nW = int(0.9*W)\n",
    "    nH = int(0.9*H)\n",
    "\n",
    "    nIMG = IMG.resize((nW, nH))\n",
    "    nIMG = nIMG.resize((W, H))    \n",
    "    \n",
    "    nIMG.save(path)"
   ]
  },
  {
   "cell_type": "code",
   "execution_count": 141,
   "metadata": {},
   "outputs": [],
   "source": [
    "def blendImages(objImage, envImage, num_images, mask, path):\n",
    "    prob = 0.7\n",
    "    for i in range(num_images):\n",
    "        augObjImage = randomObjAugment(objImage, prob)\n",
    "        augEnvImage = randomEnvAugment(envImage, prob)\n",
    "        \n",
    "        newObjImage = augObjImage #.convert(\"RGBA\")\n",
    "        newEnvImage = augEnvImage #.convert(\"RGBA\")      \n",
    "        \n",
    "        w, h = newObjImage.size[0], newObjImage.size[1]\n",
    "        W, H = newEnvImage.size[0], newEnvImage.size[1]\n",
    "        \n",
    "        mask = makeMask(newObjImage)\n",
    "        \n",
    "        randomPlace(newObjImage, newEnvImage, w, h, W, H, mask, path+\"/\"+str(i+1)+\".jpg\")"
   ]
  },
  {
   "cell_type": "code",
   "execution_count": 65,
   "metadata": {},
   "outputs": [],
   "source": [
    "path = \"../Imagens\""
   ]
  },
  {
   "cell_type": "code",
   "execution_count": 66,
   "metadata": {},
   "outputs": [],
   "source": [
    "# Take two images for blending them together   \n",
    "image1 = Image.open(path + \"/Objetos/Bulbasaur.png\")\n",
    "image2 = Image.open(path + \"/Paisagens/Floresta.001.jpg\")"
   ]
  },
  {
   "cell_type": "code",
   "execution_count": 177,
   "metadata": {},
   "outputs": [
    {
     "name": "stdout",
     "output_type": "stream",
     "text": [
      "(151, 226, 71)\n"
     ]
    }
   ],
   "source": [
    "color = image2.getpixel((image2.size[0]//2,image2.size[1]//2))\n",
    "print(color)\n",
    "image2.rotate(10, fillcolor=color).show()"
   ]
  },
  {
   "cell_type": "code",
   "execution_count": 142,
   "metadata": {},
   "outputs": [],
   "source": [
    "img = np.asarray(image1).copy()\n",
    "#img[img!=255] = 0\n",
    "img[img==255] = 0\n",
    "#img[img>0] = 255\n",
    "mask = Image.fromarray(img)"
   ]
  },
  {
   "cell_type": "code",
   "execution_count": 143,
   "metadata": {},
   "outputs": [],
   "source": [
    "mask.show()"
   ]
  },
  {
   "cell_type": "code",
   "execution_count": 182,
   "metadata": {},
   "outputs": [],
   "source": [
    "blendImages(image1, image2, 20, mask, path+\"/Augmentadas\")"
   ]
  },
  {
   "cell_type": "code",
   "execution_count": 1,
   "metadata": {},
   "outputs": [],
   "source": [
    "# change_limit is a float\n",
    "def randomContrast(image, change_limits):\n",
    "    alpha = np.random.random()\n",
    "    alpha = (alpha*change_limits) - 0.5 * change_limits + 1\n",
    "    \n",
    "    new_image = np.zeros_like(image)\n",
    "    new_image = np.clip(alpha*image, 0, 255)\n",
    "    new_image = np.array(new_image , dtype= np.int32)\n",
    "    return new_image"
   ]
  },
  {
   "cell_type": "code",
   "execution_count": null,
   "metadata": {},
   "outputs": [],
   "source": [
    "# change_limit is a tuple\n",
    "def randomBrightness(image, change_limits):\n",
    "    a,b = change_limits\n",
    "    beta = np.random.randint(a,b)\n",
    "    \n",
    "    new_image = np.zeros_like (image)\n",
    "    new_image = np.clip(image + beta, 0, 255)\n",
    "    new_image = np.array(new_image , dtype= np.int32)\n",
    "    return (new_image)"
   ]
  }
 ],
 "metadata": {
  "kernelspec": {
   "display_name": "Python 3",
   "language": "python",
   "name": "python3"
  },
  "language_info": {
   "codemirror_mode": {
    "name": "ipython",
    "version": 3
   },
   "file_extension": ".py",
   "mimetype": "text/x-python",
   "name": "python",
   "nbconvert_exporter": "python",
   "pygments_lexer": "ipython3",
   "version": "3.7.6"
  }
 },
 "nbformat": 4,
 "nbformat_minor": 4
}
